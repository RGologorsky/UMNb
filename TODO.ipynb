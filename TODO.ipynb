{
 "cells": [
  {
   "cell_type": "code",
   "execution_count": null,
   "id": "4d9fe820",
   "metadata": {},
   "outputs": [],
   "source": [
    "# Data\n",
    "1. Get data from anno folder\n",
    "2. Filter Cor T1, Cor T2, Cor T1 +contrast\n",
    "3. Align\n",
    "4. Save aligned in new data folder\n",
    "\n",
    "Organiztion:\n",
    "    pt id -> seqs (named) -> seqs (aligned)\n",
    "    inp, lbl\n",
    "    \n",
    "# Load UNET pre-trained\n",
    "1. pre-process: N4 bias correct, re-orient to LAS coordinates.\n",
    "    - do standard compose?\n",
    "     return Compose([\n",
    "        Spacingd(keys, pixdim=sp, mode = interp_mode),\n",
    "        NormalizeIntensityd(image_keys, nonzero=True, channel_wise=False),\n",
    "        AddChanneld(keys),\n",
    "        SpatialPadd(keys, spatial_size=sz, method=\"symmetric\", mode=\"constant\"),\n",
    "        CenterSpatialCropd(keys, roi_size=sz),\n",
    "        ToTensord(keys),\n",
    "        UndoDict(keys),\n",
    "    ])\n",
    "    \n",
    "2. Test Unet works on new input, post-process largest connected component\n",
    "\n",
    "# Goal: crop pituitary ims to pituitary ROI label\n",
    "# old model: crop T2 to pit ROI\n",
    "\n",
    "# Transfer learning: Fit one cycle\n",
    "1. Load model wts\n",
    "2. get learning rate - fit one cycle (frozen layers + new head)\n",
    "3. train\n",
    "4. post-process "
   ]
  }
 ],
 "metadata": {
  "kernelspec": {
   "display_name": "Python 3",
   "language": "python",
   "name": "python3"
  },
  "language_info": {
   "codemirror_mode": {
    "name": "ipython",
    "version": 3
   },
   "file_extension": ".py",
   "mimetype": "text/x-python",
   "name": "python",
   "nbconvert_exporter": "python",
   "pygments_lexer": "ipython3",
   "version": "3.8.8"
  }
 },
 "nbformat": 4,
 "nbformat_minor": 5
}
