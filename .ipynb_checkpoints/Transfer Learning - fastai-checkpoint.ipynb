{
 "cells": [
  {
   "cell_type": "markdown",
   "id": "63ded02a",
   "metadata": {},
   "source": [
    "# Adapted from\n",
    "\n",
    "https://github.com/Project-MONAI/tutorials/blob/main/modules/transfer_mmar.ipynb"
   ]
  },
  {
   "cell_type": "code",
   "execution_count": 1,
   "id": "706e3a1c",
   "metadata": {
    "scrolled": true
   },
   "outputs": [],
   "source": [
    "# !pip install monai\n",
    "# !python -c \"import monai\" || pip install -q \"monai-weekly[nibabel, lmdb, tqdm]\""
   ]
  },
  {
   "cell_type": "code",
   "execution_count": 2,
   "id": "251e18c6",
   "metadata": {},
   "outputs": [],
   "source": [
    "import os, sys, shutil, time, pickle, glob\n",
    "from pathlib import Path\n",
    "\n",
    "# numpy to SITK conversion\n",
    "import torch\n",
    "import numpy     as np\n",
    "import SimpleITK as sitk\n",
    "\n",
    "# hardware stats\n",
    "import GPUtil as GPU\n",
    "\n",
    "# plot\n",
    "from helpers.viz import viz_axis, viz_compare_inputs, viz_compare_outputs\n",
    "from helpers.viz import *\n",
    "\n",
    "import matplotlib.pyplot as plt\n",
    "\n",
    "# MONAI\n",
    "from monai.networks.nets import UNet\n",
    "from monai.losses import DiceFocalLoss\n",
    "from monai.metrics import DiceMetric\n",
    "from monai.inferers import sliding_window_inference\n",
    "from monai.data import (\n",
    "    Dataset,\n",
    "    CacheDataset,\n",
    "    LMDBDataset,\n",
    "    DataLoader,\n",
    "    decollate_batch,\n",
    ")\n",
    "\n",
    "from monai.networks.utils import copy_model_state\n",
    "from monai.optimizers import generate_param_groups\n",
    "\n",
    "from monai.transforms import (\n",
    "    AsDiscrete,\n",
    "    AddChanneld,\n",
    "    CenterSpatialCropd,\n",
    "    EnsureChannelFirstd,\n",
    "    Compose,\n",
    "    LoadImaged,\n",
    "    PadListDataCollate,\n",
    "    ScaleIntensityRanged,\n",
    "    Spacingd,\n",
    "    SpatialPadd,\n",
    "    Orientationd,\n",
    "    CropForegroundd,\n",
    "    RandCropByPosNegLabeld,\n",
    "    RandAffined,\n",
    "    RandRotated,\n",
    "    EnsureType,\n",
    "    EnsureTyped,\n",
    "    ToTensord,\n",
    ")\n",
    "\n",
    "%matplotlib inline\n"
   ]
  },
  {
   "cell_type": "markdown",
   "id": "0fac4af0",
   "metadata": {},
   "source": [
    "# Get labels"
   ]
  },
  {
   "cell_type": "code",
   "execution_count": 3,
   "id": "5ef1687b",
   "metadata": {},
   "outputs": [
    {
     "name": "stdout",
     "output_type": "stream",
     "text": [
      "total number of images: 50\n",
      "number of images for training: 30\n",
      "number of images for val: 10\n",
      "number of images for testing: 10\n"
     ]
    }
   ],
   "source": [
    "root = \"/home/gologors/data/\"\n",
    "\n",
    "with open(root + 'pitmri/' + 'all_filenames_pt.pkl', 'rb') as f: \n",
    "    all_filenames = pickle.load(f)\n",
    "    \n",
    "# Split into training/valid and testing \n",
    "# adapted from https://github.com/Project-MONAI/tutorials/blob/main/modules/autoencoder_mednist.ipynb\n",
    "\n",
    "test_frac = 0.2\n",
    "valid_frac = 0.2\n",
    "\n",
    "num_test  = int(len(all_filenames) * test_frac)\n",
    "num_valid = int(len(all_filenames) * valid_frac)\n",
    "num_train = len(all_filenames) - num_test - num_valid\n",
    "\n",
    "train_datadict = [{\"im\": nii, \"lbl\":obj} for nii,obj in all_filenames[:num_train]]\n",
    "valid_datadict = [{\"im\": nii, \"lbl\":obj} for nii,obj in all_filenames[num_train:num_train+num_valid]]\n",
    "test_datadict = [{\"im\": nii, \"lbl\": obj} for nii,obj in all_filenames[-num_test:]]\n",
    "\n",
    "print(f\"total number of images: {len(all_filenames)}\")\n",
    "print(f\"number of images for training: {len(train_datadict)}\")\n",
    "print(f\"number of images for val: {len(valid_datadict)}\")\n",
    "print(f\"number of images for testing: {len(test_datadict)}\")"
   ]
  },
  {
   "cell_type": "code",
   "execution_count": 4,
   "id": "4fc5b2bc",
   "metadata": {},
   "outputs": [
    {
     "name": "stdout",
     "output_type": "stream",
     "text": [
      "torch.Size([512, 512, 16])\n",
      "torch.Size([320, 320, 14])\n",
      "torch.Size([512, 512, 18])\n",
      "torch.Size([512, 512, 14])\n",
      "torch.Size([432, 432, 24])\n",
      "torch.Size([256, 256, 24])\n",
      "torch.Size([512, 512, 17])\n",
      "torch.Size([256, 256, 11])\n",
      "torch.Size([512, 512, 16])\n",
      "torch.Size([432, 432, 18])\n",
      "torch.Size([512, 512, 18])\n",
      "torch.Size([512, 512, 16])\n",
      "torch.Size([512, 512, 16])\n",
      "torch.Size([300, 384, 15])\n",
      "torch.Size([512, 512, 16])\n",
      "torch.Size([336, 336, 14])\n",
      "torch.Size([512, 512, 17])\n",
      "torch.Size([512, 512, 18])\n",
      "torch.Size([512, 512, 16])\n",
      "torch.Size([576, 640, 17])\n",
      "torch.Size([256, 256, 11])\n",
      "torch.Size([512, 512, 20])\n",
      "torch.Size([512, 512, 18])\n",
      "torch.Size([512, 512, 16])\n",
      "torch.Size([512, 512, 25])\n",
      "torch.Size([512, 512, 18])\n",
      "torch.Size([448, 448, 14])\n",
      "torch.Size([336, 336, 14])\n",
      "torch.Size([512, 512, 16])\n",
      "torch.Size([432, 432, 18])\n",
      "torch.Size([384, 384, 13])\n",
      "torch.Size([512, 512, 12])\n",
      "torch.Size([432, 432, 22])\n",
      "torch.Size([400, 400, 42])\n",
      "torch.Size([288, 288, 20])\n",
      "torch.Size([512, 512, 15])\n",
      "torch.Size([256, 256, 17])\n",
      "torch.Size([512, 512, 16])\n",
      "torch.Size([512, 512, 16])\n",
      "torch.Size([256, 256, 21])\n",
      "torch.Size([512, 512, 17])\n",
      "torch.Size([292, 320, 30])\n",
      "torch.Size([432, 432, 18])\n",
      "torch.Size([288, 288, 20])\n",
      "torch.Size([512, 512, 17])\n",
      "torch.Size([336, 336, 7])\n",
      "torch.Size([256, 256, 11])\n",
      "torch.Size([512, 512, 16])\n",
      "torch.Size([512, 512, 20])\n",
      "torch.Size([384, 384, 20])\n"
     ]
    }
   ],
   "source": [
    "# Shapes\n",
    "all_shapes = []\n",
    "for im_fn, lbl_fn in all_filenames:\n",
    "    lbl_pt = torch.load(lbl_fn)\n",
    "    all_shapes.append(tuple(lbl_pt.shape))\n",
    "    print(lbl_pt.shape)"
   ]
  },
  {
   "cell_type": "code",
   "execution_count": 5,
   "id": "ec9e7f0c",
   "metadata": {},
   "outputs": [
    {
     "name": "stdout",
     "output_type": "stream",
     "text": [
      "Shapes of tensors\n",
      "Dim 0\n",
      "(256, 256, 24)\n",
      "(576, 640, 17)\n",
      "Dim 1\n",
      "(256, 256, 24)\n",
      "(576, 640, 17)\n",
      "Dim 2\n",
      "(336, 336, 7)\n",
      "(400, 400, 42)\n"
     ]
    }
   ],
   "source": [
    "print(\"Shapes of tensors\")\n",
    "\n",
    "print(\"Dim 0\")\n",
    "print(min(all_shapes, key=lambda s: s[0]))\n",
    "print(max(all_shapes, key=lambda s: s[0]))\n",
    "\n",
    "print(\"Dim 1\")\n",
    "print(min(all_shapes, key=lambda s: s[1]))\n",
    "print(max(all_shapes, key=lambda s: s[1]))\n",
    "\n",
    "print(\"Dim 2\")\n",
    "print(min(all_shapes, key=lambda s: s[2]))\n",
    "print(max(all_shapes, key=lambda s: s[2]))"
   ]
  },
  {
   "cell_type": "markdown",
   "id": "bec71dc3",
   "metadata": {},
   "source": [
    "# Transforms"
   ]
  },
  {
   "cell_type": "code",
   "execution_count": 6,
   "id": "9f03b5e5",
   "metadata": {},
   "outputs": [],
   "source": [
    "largest_sz         = (576, 640, 42)\n",
    "largest_sz         = (576, 640, 96)\n",
    "center_crop_sz     = (288, 288, 96)"
   ]
  },
  {
   "cell_type": "code",
   "execution_count": 7,
   "id": "b75984d6",
   "metadata": {},
   "outputs": [],
   "source": [
    "def load_pt(x):\n",
    "    d = {}\n",
    "    # do stuff to image\n",
    "    for key, val in x.items():\n",
    "        d[key] = torch.load(val)\n",
    "    return d"
   ]
  },
  {
   "cell_type": "code",
   "execution_count": 8,
   "id": "21bf3616",
   "metadata": {},
   "outputs": [],
   "source": [
    "# Transforms\n",
    "from helpers.transforms_simplified import UndoDict\n",
    "\n",
    "train_transforms = Compose(\n",
    "    [\n",
    "        load_pt,\n",
    "        AddChanneld(keys=[\"im\", \"lbl\"]),\n",
    "        SpatialPadd(keys=[\"im\", \"lbl\"], spatial_size=largest_sz, method=\"symmetric\", mode=\"constant\"),\n",
    "        CenterSpatialCropd(keys=[\"im\", \"lbl\"], roi_size=center_crop_sz),\n",
    "        UndoDict(keys=[\"im\", \"lbl\"])\n",
    "    ]\n",
    ")\n",
    "\n",
    "valid_transforms = train_transforms"
   ]
  },
  {
   "cell_type": "code",
   "execution_count": 9,
   "id": "520bb298",
   "metadata": {},
   "outputs": [],
   "source": [
    "check_ds = Dataset(data= [{\"im\": nii, \"lbl\": obj} for nii,obj in all_filenames], transform=valid_transforms)\n",
    "check_loader = DataLoader(check_ds, batch_size=1)"
   ]
  },
  {
   "cell_type": "code",
   "execution_count": null,
   "id": "ab2969b2",
   "metadata": {},
   "outputs": [
    {
     "name": "stdout",
     "output_type": "stream",
     "text": [
      "image shape: torch.Size([288, 288, 96]), label shape: torch.Size([288, 288, 96])\n"
     ]
    },
    {
     "data": {
      "image/png": "[encoded data removed]",
      "text/plain": [
       "<Figure size 864x432 with 2 Axes>"
      ]
     },
     "metadata": {
      "needs_background": "light"
     },
     "output_type": "display_data"
    },
    {
     "name": "stdout",
     "output_type": "stream",
     "text": [
      "image shape: torch.Size([288, 288, 96]), label shape: torch.Size([288, 288, 96])\n"
     ]
    }
   ],
   "source": [
    "count_ims = 0\n",
    "for check_data in check_loader:\n",
    "    image, label = check_data[0][0][0], check_data[1][0][0] #(check_data[\"im\"][0][0], check_data[\"lbl\"][0][0])\n",
    "    print(f\"image shape: {image.shape}, label shape: {label.shape}\")\n",
    "    # plot the slice [:, :, 21]\n",
    "    plt.figure(\"check\", (12, 6))\n",
    "    plt.subplot(1, 2, 1)\n",
    "    plt.title(\"image\")\n",
    "    plt.imshow(image[:, :, center_crop_sz[2]//2], cmap=\"gray\")\n",
    "    plt.subplot(1, 2, 2)\n",
    "    plt.title(\"label\")\n",
    "    plt.imshow(label[:, :, center_crop_sz[2]//2])\n",
    "    plt.show()\n",
    "    \n",
    "    count_ims += 1\n",
    "    \n",
    "    if count_ims == 3:\n",
    "        break"
   ]
  },
  {
   "cell_type": "code",
   "execution_count": null,
   "id": "58dbcc3e",
   "metadata": {},
   "outputs": [],
   "source": [
    "# Fastai + distributed training\n",
    "from fastai              import *\n",
    "from fastai.torch_basics import *\n",
    "from fastai.basics       import *\n",
    "from fastai.distributed  import *\n",
    "from fastai.callback.all import SaveModelCallback, CSVLogger, ProgressCallback\n",
    "\n",
    "# clear cache\n",
    "torch.cuda.empty_cache()\n",
    "\n",
    "from helpers.general import print_hardware_stats\n",
    "print_hardware_stats()"
   ]
  },
  {
   "cell_type": "code",
   "execution_count": null,
   "id": "23511bc2",
   "metadata": {},
   "outputs": [],
   "source": [
    "bs = 2\n",
    "\n",
    "train_dl = TfmdDL(train_datadict, after_item=train_transforms, after_batch=[], bs=bs)\n",
    "val_dl   = TfmdDL(valid_datadict,   after_item=valid_transforms,   after_batch=[], bs=bs)\n",
    "\n",
    "\n",
    "dls = DataLoaders(train_dl, val_dl)\n",
    "dls = dls.cuda()"
   ]
  },
  {
   "cell_type": "code",
   "execution_count": null,
   "id": "73c19f57",
   "metadata": {},
   "outputs": [],
   "source": [
    "PRETRAINED = True\n",
    "\n",
    "\n",
    "unet_path = f\"/home/gologors/pitmri/PituitaryGenerator/unet/model.pth\"\n",
    "checkpoint = torch.load(unet_path)"
   ]
  },
  {
   "cell_type": "code",
   "execution_count": null,
   "id": "5abf2b3b",
   "metadata": {},
   "outputs": [],
   "source": [
    "print(checkpoint.keys())\n",
    "print(checkpoint[\"opt\"].keys())"
   ]
  },
  {
   "cell_type": "code",
   "execution_count": null,
   "id": "fea7a8a3",
   "metadata": {},
   "outputs": [],
   "source": [
    "# UNET model\n",
    "model = UNet(\n",
    "                    dimensions=3,\n",
    "                    in_channels=1,\n",
    "                    out_channels=2,\n",
    "                    channels=(16, 32, 64, 128, 256),\n",
    "                    strides=(2, 2, 2, 2),\n",
    "                    num_res_units=2,\n",
    "                    dropout=0.0,\n",
    "                )"
   ]
  },
  {
   "cell_type": "code",
   "execution_count": null,
   "id": "ffe4cefa",
   "metadata": {},
   "outputs": [],
   "source": [
    "# copy all the pretrained weights except for variables whose name matches \"model.0.conv.unit0\"\n",
    "pretrained_dict, updated_keys, unchanged_keys = copy_model_state(\n",
    "    model, checkpoint[\"model\"])\n",
    "\n",
    "print(\"num. var. using the pretrained\", len(updated_keys), \", random init\", len(unchanged_keys), \"variables.\")\n",
    "model.load_state_dict(pretrained_dict)\n",
    "\n",
    "print([x[0] for x in model.named_parameters()])\n",
    "print(unchanged_keys)\n",
    "\n",
    "# # copy all the pretrained weights except for variables whose name matches \"model.0.conv.unit0\"\n",
    "# pretrained_dict, updated_keys, unchanged_keys = copy_model_state(\n",
    "#     model, checkpoint[\"model\"], exclude_vars=\"model.0.conv.unit0\")\n",
    "# print(\"num. var. using the pretrained\", len(updated_keys), \", random init\", len(unchanged_keys), \"variables.\")\n",
    "# model.load_state_dict(pretrained_dict)\n",
    "\n",
    "# print([x[0] for x in model.named_parameters()])\n",
    "# print(unchanged_keys)\n",
    "\n",
    "# # stop gradients for the pretrained weights\n",
    "# for x in model.named_parameters():\n",
    "#     if x[0] in updated_keys:\n",
    "#         x[1].requires_grad = False\n",
    "# params = generate_param_groups(\n",
    "#     network=model,\n",
    "#     layer_matches=[lambda x: x[0] in updated_keys],\n",
    "#     match_types=[\"filter\"],\n",
    "#     lr_values=[1e-4],\n",
    "#     include_others=False\n",
    "# )"
   ]
  },
  {
   "cell_type": "code",
   "execution_count": null,
   "id": "30e28161",
   "metadata": {},
   "outputs": [],
   "source": [
    "from fastai.vision.all import *"
   ]
  },
  {
   "cell_type": "code",
   "execution_count": null,
   "id": "33a62d2a",
   "metadata": {},
   "outputs": [],
   "source": [
    "# # check\n",
    "# print(\"Check\")\n",
    "# b = dls.one_batch()\n",
    "# xb,yb = b #b[\"image\"], b[\"label\"]\n",
    "# print(f\"Batch: {len(b)}. xb: {xb.shape}, yb: {yb.shape}\")\n",
    "# predb = learn.model(xb)\n",
    "# print(f\"Pred batch: {predb.shape}\")\n",
    "# loss = loss_fn(predb, yb)\n",
    "# print(f\"Loss: {loss}\")"
   ]
  },
  {
   "cell_type": "code",
   "execution_count": null,
   "id": "cb4de172",
   "metadata": {},
   "outputs": [],
   "source": [
    "device = torch.device(\"cuda:0\" if torch.cuda.is_available() else \"cpu\")\n",
    "print(\"Device = \", device)\n",
    "\n",
    "model = model.to(device)"
   ]
  },
  {
   "cell_type": "code",
   "execution_count": null,
   "id": "428db3ac",
   "metadata": {},
   "outputs": [],
   "source": [
    "from helpers.time import get_time_id\n",
    "\n",
    "time_id = get_time_id()\n",
    "\n",
    "print(time_id)"
   ]
  },
  {
   "cell_type": "code",
   "execution_count": null,
   "id": "d771e018",
   "metadata": {},
   "outputs": [],
   "source": [
    "model_src = f\"/home/gologors/data/saved_models/transfer_learning_unet/fastai/\" + time_id\n",
    "fig_src   = f\"{model_src}/figs\"\n",
    "Path(fig_src).mkdir(parents=True, exist_ok=True)"
   ]
  },
  {
   "cell_type": "code",
   "execution_count": null,
   "id": "3cd0e891",
   "metadata": {},
   "outputs": [],
   "source": [
    "from helpers.losses import dice_loss, dice_score\n",
    "\n",
    "loss_fn = dice_loss"
   ]
  },
  {
   "cell_type": "code",
   "execution_count": null,
   "id": "4a1e768b",
   "metadata": {},
   "outputs": [],
   "source": [
    "# cbs\n",
    "cbs = [\n",
    "    Recorder(train_metrics=True), # False\n",
    "    SaveModelCallback(monitor='valid_dice_score', with_opt=True), \n",
    "    CSVLogger(fname=f\"{fig_src}/history.csv\")\n",
    "]\n",
    "\n",
    "# learner\n",
    "learn = Learner(dls   = dls, \\\n",
    "                model     = model, \\\n",
    "                loss_func = loss_fn, \\\n",
    "                metrics   = dice_score, \\\n",
    "                model_dir = model_src, \\\n",
    "                cbs       = [])\n",
    "\n",
    "# remove post-recorder, add new cbs, to GPU\n",
    "learn.remove_cbs(learn.cbs[1:])\n",
    "learn.add_cb(ProgressCallback())\n",
    "learn.add_cbs(cbs)\n",
    "learn.model = learn.model.cuda()"
   ]
  },
  {
   "cell_type": "code",
   "execution_count": null,
   "id": "e3dba798",
   "metadata": {},
   "outputs": [],
   "source": [
    "# check\n",
    "print(\"Check\")\n",
    "b = dls.one_batch()\n",
    "xb,yb = b #b[\"image\"], b[\"label\"]\n",
    "print(f\"Batch: {len(b)}. xb: {xb.shape}, yb: {yb.shape}\")\n",
    "predb = learn.model(xb)\n",
    "print(f\"Pred batch: {predb.shape}\")\n",
    "loss = loss_fn(predb, yb)\n",
    "print(f\"Loss: {loss}\")"
   ]
  },
  {
   "cell_type": "code",
   "execution_count": null,
   "id": "51fc4ddf",
   "metadata": {},
   "outputs": [],
   "source": [
    "learn.fit_one_cycle(60, 3e-3, wd=1e-4)"
   ]
  },
  {
   "cell_type": "code",
   "execution_count": null,
   "id": "22d2a690",
   "metadata": {},
   "outputs": [],
   "source": [
    "learn.unfreeze()"
   ]
  },
  {
   "cell_type": "code",
   "execution_count": null,
   "id": "ffb9ec7e",
   "metadata": {},
   "outputs": [],
   "source": [
    "learn.lr_find()"
   ]
  },
  {
   "cell_type": "code",
   "execution_count": null,
   "id": "80cbf2bd",
   "metadata": {},
   "outputs": [],
   "source": [
    "learn.fit_one_cycle(50, lr_max=slice(1e-4,1e-2))"
   ]
  },
  {
   "cell_type": "markdown",
   "id": "eb13bb6f",
   "metadata": {},
   "source": [
    "# Plot Loss and Metric"
   ]
  },
  {
   "cell_type": "code",
   "execution_count": null,
   "id": "bb96666e",
   "metadata": {},
   "outputs": [],
   "source": [
    "@delegates(subplots)\n",
    "def save_plot_metrics(self: Recorder, nrows=None, ncols=None, figsize=None, **kwargs):\n",
    "    metrics = np.stack(self.values)\n",
    "    # 'train_loss', 'train_dice_score', 'valid_loss', 'valid_dice_score'\n",
    "    names = self.metric_names[1:-1]\n",
    "    print(\"Metric names: \", names)\n",
    "    \n",
    "    names_train = [n for n in names if n.startswith(\"train\")]\n",
    "    n = len(names_train)\n",
    "    if nrows is None and ncols is None:\n",
    "        nrows = int(math.sqrt(n))\n",
    "        ncols = int(np.ceil(n / nrows))\n",
    "    elif nrows is None: nrows = int(np.ceil(n / ncols))\n",
    "    elif ncols is None: ncols = int(np.ceil(n / nrows))\n",
    "    figsize = (ncols * 6, nrows * 4)\n",
    "    fig, axs = subplots(nrows, ncols, figsize=figsize)\n",
    "    for i, ax in enumerate(axs):\n",
    "        name = names_train[i]\n",
    "        n = name[name.index(\"_\")+1:]\n",
    "        valid_name = f\"valid_{n}\"\n",
    "        valid_idx = names.index(valid_name)\n",
    "        print(i, valid_idx, name, valid_name)\n",
    "        ax.plot(metrics[:, i], color='#1f77b4',  label='train')\n",
    "        ax.plot(metrics[:, valid_idx], color = '#ff7f0e', label='valid')\n",
    "        ax.set_title(n)\n",
    "        ax.legend(loc='best')\n",
    "    #plt.show()\n",
    "    plt.savefig(f'{fig_src}/metrics.png', bbox_inches='tight')\n",
    "    plt.close()"
   ]
  },
  {
   "cell_type": "code",
   "execution_count": null,
   "id": "7aab3410",
   "metadata": {},
   "outputs": [],
   "source": [
    "save_plot_metrics(learn.recorder)"
   ]
  },
  {
   "cell_type": "code",
   "execution_count": null,
   "id": "c2fc943b",
   "metadata": {},
   "outputs": [],
   "source": [
    "learn.metric_names"
   ]
  },
  {
   "cell_type": "code",
   "execution_count": null,
   "id": "59bd0014",
   "metadata": {},
   "outputs": [],
   "source": []
  },
  {
   "cell_type": "code",
   "execution_count": null,
   "id": "3d5c24d3",
   "metadata": {},
   "outputs": [],
   "source": [
    "model.load_state_dict(torch.load(\n",
    "    os.path.join(save_model_dir, \"best_metric_model.pth\")))\n",
    "model.eval()\n",
    "\n",
    "with torch.no_grad():\n",
    "    for i, val_data in enumerate(val_loader):\n",
    "        roi_size = (160, 160, 160)\n",
    "        sw_batch_size = 4\n",
    "        val_outputs = sliding_window_inference(\n",
    "            val_data[\"image\"].to(device), roi_size, sw_batch_size, model\n",
    "        )\n",
    "        # plot the slice [:, :, 80]\n",
    "        plt.figure(\"check\", (18, 6))\n",
    "        plt.subplot(1, 3, 1)\n",
    "        plt.title(f\"image {i}\")\n",
    "        plt.imshow(val_data[\"image\"][0, 0, :, :, 80], cmap=\"gray\")\n",
    "        plt.subplot(1, 3, 2)\n",
    "        plt.title(f\"label {i}\")\n",
    "        plt.imshow(val_data[\"label\"][0, 0, :, :, 80])\n",
    "        plt.subplot(1, 3, 3)\n",
    "        plt.title(f\"output {i}\")\n",
    "        plt.imshow(torch.argmax(\n",
    "            val_outputs, dim=1).detach().cpu()[0, :, :, 80])\n",
    "        plt.show()\n",
    "        if i == 2:\n",
    "            break"
   ]
  },
  {
   "cell_type": "code",
   "execution_count": null,
   "id": "b83ab10f",
   "metadata": {},
   "outputs": [],
   "source": []
  }
 ],
 "metadata": {
  "kernelspec": {
   "display_name": "CustomEnv",
   "language": "python",
   "name": "custom_env"
  },
  "language_info": {
   "codemirror_mode": {
    "name": "ipython",
    "version": 3
   },
   "file_extension": ".py",
   "mimetype": "text/x-python",
   "name": "python",
   "nbconvert_exporter": "python",
   "pygments_lexer": "ipython3",
   "version": "3.8.13"
  }
 },
 "nbformat": 4,
 "nbformat_minor": 5
}
