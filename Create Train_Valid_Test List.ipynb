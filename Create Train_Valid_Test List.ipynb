{
 "cells": [
  {
   "cell_type": "code",
   "execution_count": 1,
   "id": "4e98e58f",
   "metadata": {},
   "outputs": [],
   "source": [
    "import os, sys, shutil, time, pickle, glob\n",
    "from pathlib import Path"
   ]
  },
  {
   "cell_type": "code",
   "execution_count": 2,
   "id": "fd7c1914",
   "metadata": {},
   "outputs": [
    {
     "name": "stdout",
     "output_type": "stream",
     "text": [
      "/home/gologors/data/anno\n"
     ]
    }
   ],
   "source": [
    "root = \"/home/gologors/data/\"\n",
    "\n",
    "os.chdir(root + \"anno/\")\n",
    "\n",
    "print(os.getcwd())\n",
    "\n",
    "children_folders = [fn for fn in os.listdir() if os.path.isdir(fn)]\n",
    "# print(*[f\"{i}: {fn}\" for i,fn in enumerate(children_folders)], sep=\"\\n\")"
   ]
  },
  {
   "cell_type": "code",
   "execution_count": 15,
   "id": "c44e574a",
   "metadata": {},
   "outputs": [],
   "source": [
    "segm_fns = list(glob.iglob(root + \"anno/\" + \"/**/*.obj\", recursive = True))"
   ]
  },
  {
   "cell_type": "code",
   "execution_count": 20,
   "id": "1551eccd",
   "metadata": {},
   "outputs": [],
   "source": [
    "def get_nii_fn(ofn):\n",
    "    parent_folder = str(Path(ofn).parent)\n",
    "    sisters = list(os.listdir(parent_folder))\n",
    "    niis = [fn for fn in sisters if fn.endswith(\".nii\") or fn.endswith(\".nii.gz\")]\n",
    "    if len(niis) == 0:\n",
    "        print(\"Error: \", ofn)\n",
    "    return parent_folder + \"/\" + niis[0]\n",
    "\n",
    "nii_fns = [get_nii_fn(ofn) for ofn in segm_fns]"
   ]
  },
  {
   "cell_type": "code",
   "execution_count": 22,
   "id": "d9fb8ce4",
   "metadata": {},
   "outputs": [
    {
     "name": "stdout",
     "output_type": "stream",
     "text": [
      "N =  50  obj 50  ims\n"
     ]
    }
   ],
   "source": [
    "print(\"N = \", len(segm_fns), \" obj\", len(nii_fns), \" ims\")\n",
    "\n",
    "all_filenames = list(zip(nii_fns, segm_fns))\n",
    "\n",
    "# Save\n",
    "with open(root + 'pitmri/' + 'all_filenames.pkl', 'wb') as f:\n",
    "    pickle.dump(all_filenames, f)"
   ]
  },
  {
   "cell_type": "code",
   "execution_count": 23,
   "id": "0f6ad240",
   "metadata": {},
   "outputs": [],
   "source": [
    "# read back\n",
    "\n",
    "with open(root + 'pitmri/' + 'all_filenames.pkl', 'rb') as f: \n",
    "    all_filenames = pickle.load(f)"
   ]
  },
  {
   "cell_type": "code",
   "execution_count": 24,
   "id": "b330bc5e",
   "metadata": {},
   "outputs": [
    {
     "name": "stdout",
     "output_type": "stream",
     "text": [
      "total number of images: 50\n",
      "number of images for training: 30\n",
      "number of images for val: 10\n",
      "number of images for testing: 10\n"
     ]
    }
   ],
   "source": [
    "# Split into training/valid and testing \n",
    "# adapted from https://github.com/Project-MONAI/tutorials/blob/main/modules/autoencoder_mednist.ipynb\n",
    "\n",
    "test_frac = 0.2\n",
    "valid_frac = 0.2\n",
    "\n",
    "num_test  = int(len(all_filenames) * test_frac)\n",
    "num_valid = int(len(all_filenames) * valid_frac)\n",
    "num_train = len(all_filenames) - num_test - num_valid\n",
    "\n",
    "train_datadict = [{\"im\": nii, \"lbl\":obj} for nii,obj in all_filenames[:num_train]]\n",
    "valid_datadict = [{\"im\": nii, \"lbl\":obj} for nii,obj in all_filenames[num_train:num_train+num_valid]]\n",
    "test_datadict = [{\"im\": nii, \"lbl\": obj} for nii,obj in all_filenames[-num_test:]]\n",
    "\n",
    "print(f\"total number of images: {len(all_filenames)}\")\n",
    "print(f\"number of images for training: {len(train_datadict)}\")\n",
    "print(f\"number of images for val: {len(valid_datadict)}\")\n",
    "print(f\"number of images for testing: {len(test_datadict)}\")"
   ]
  },
  {
   "cell_type": "code",
   "execution_count": null,
   "id": "9e62d74b",
   "metadata": {},
   "outputs": [],
   "source": []
  },
  {
   "cell_type": "code",
   "execution_count": null,
   "id": "8187cf61",
   "metadata": {},
   "outputs": [],
   "source": []
  }
 ],
 "metadata": {
  "kernelspec": {
   "display_name": "Python 3",
   "language": "python",
   "name": "python3"
  },
  "language_info": {
   "codemirror_mode": {
    "name": "ipython",
    "version": 3
   },
   "file_extension": ".py",
   "mimetype": "text/x-python",
   "name": "python",
   "nbconvert_exporter": "python",
   "pygments_lexer": "ipython3",
   "version": "3.8.8"
  }
 },
 "nbformat": 4,
 "nbformat_minor": 5
}
