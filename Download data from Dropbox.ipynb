{
 "cells": [
  {
   "cell_type": "code",
   "execution_count": 1,
   "id": "fae0e12f",
   "metadata": {},
   "outputs": [],
   "source": [
    "import os, sys, tarfile, shutil"
   ]
  },
  {
   "cell_type": "code",
   "execution_count": 2,
   "id": "a6c7767e",
   "metadata": {},
   "outputs": [
    {
     "name": "stdout",
     "output_type": "stream",
     "text": [
      "/home/gologors/pitmri\n",
      "(0, '.ipynb_checkpoints')\n",
      "(1, 'Transfer Learning - MONAI.ipynb')\n",
      "(2, 'TODO.ipynb')\n",
      "(3, 'Align.ipynb')\n",
      "(4, 'reg.py')\n",
      "(5, 'Transfer Learning - fastai-Copy1.ipynb')\n",
      "(6, 'Viz Seq.ipynb')\n",
      "(7, 'PituitaryGenerator')\n",
      "(8, 'hello.py')\n",
      "(9, 'Download data from Dropbox.ipynb')\n",
      "(10, 'Create Train_Valid_Test List.ipynb')\n",
      "(11, 'reg2.py')\n",
      "(12, 'helpers')\n",
      "(13, 'Working Align.ipynb')\n",
      "(14, 'Align-Copy1.ipynb')\n",
      "(15, 'Viz anno.ipynb')\n",
      "(16, 'script.sh')\n",
      "(17, 'Transfer Learning - fastai.ipynb')\n",
      "(18, 'Save Mesh as Nii Label (and Viz).ipynb')\n"
     ]
    }
   ],
   "source": [
    "print(os.getcwd())\n",
    "print(*enumerate(os.listdir()), sep=\"\\n\")\n",
    "\n",
    "root = \"/home/gologors/data/\"\n",
    "\n",
    "#os.mkdir(\"anno\")"
   ]
  },
  {
   "cell_type": "code",
   "execution_count": 3,
   "id": "b9167f86",
   "metadata": {},
   "outputs": [
    {
     "name": "stdout",
     "output_type": "stream",
     "text": [
      "/home/gologors/data/loni\n",
      "[]\n"
     ]
    }
   ],
   "source": [
    "os.chdir(root + \"loni/\")\n",
    "print(os.getcwd())\n",
    "print(os.listdir())"
   ]
  },
  {
   "cell_type": "code",
   "execution_count": 4,
   "id": "aa15223f",
   "metadata": {},
   "outputs": [],
   "source": [
    "# os.remove(\"annotations.zip\")\n",
    "# shutil.rmtree(\"AAAq9r4b29ICxdU2BPZzf6Z_a?dl=1\", ignore_errors=True)"
   ]
  },
  {
   "cell_type": "code",
   "execution_count": 5,
   "id": "2d074289",
   "metadata": {},
   "outputs": [],
   "source": [
    "# urls = \"\"\"\n",
    "# https://www.dropbox.com/sh/jji9dbzcs86nd74/AAAB0JHkvXD03aNXIyMzSMRba?dl=0\n",
    "# https://www.dropbox.com/sh/9dgf1cifkn0fl69/AABOY-oTnyfhvcjiImAXtoepa?dl=0\n",
    "# https://www.dropbox.com/sh/o8ajiy8zi6sreve/AACEMgtd3bMsWzXOUCle2RdWa?dl=0\n",
    "# https://www.dropbox.com/sh/3jr8z42mdcpyrn1/AABG6gNLlaSjNLCNNOZ3VSsea?dl=0\n",
    "# https://www.dropbox.com/sh/2wd3uxr0j870rmg/AAAJtTkIuY9LCUPooEXEQ5-Na?dl=0\n",
    "# https://www.dropbox.com/sh/qsvnzz7fxaz6oj2/AAA8xVSXUMFDScQKwnIs2DXua?dl=0\n",
    "# https://www.dropbox.com/sh/axiat3e79hwtlsm/AACyc1dGKrmgXJ0hMjSU9XgNa?dl=0\n",
    "# https://www.dropbox.com/sh/2t7vl05lv828p8i/AABQLRocdJihKL8s-7RsevCsa?dl=0\n",
    "# https://www.dropbox.com/sh/amay3ly7ef2tevd/AABCK1X7eSCbsV31jGyaTXHHa?dl=0\n",
    "# https://www.dropbox.com/sh/kqz8tzq0frflelx/AACJiXpmnXUoHuSVHUtwvKPDa?dl=0\n",
    "\n",
    "# https://www.dropbox.com/sh/h2dwmqxmd96d60s/AABA9rc5s2w1Dda7gqmsmVBWa?dl=0\n",
    "# https://www.dropbox.com/sh/gokmvs6xyp5sknb/AAA7KXcw9AG-W5mcNP6i8Zrra?dl=0\n",
    "# https://www.dropbox.com/sh/co98ema3o1vzzml/AADv1MFMxAC0YqjPGzVQ243ga?dl=0\n",
    "# https://www.dropbox.com/sh/iab1fq48fvktlqx/AABmlePAL7hF2PtMjtJCVS22a?dl=0\n",
    "# https://www.dropbox.com/sh/sxoy0gvrfljeu6a/AABWgguq1toFQ-IksgJA3iIAa?dl=0\n",
    "# https://www.dropbox.com/sh/gthnidizxgw08rz/AAAlnOsvbSkRyp9njF98_wAda?dl=0\n",
    "# https://www.dropbox.com/sh/v2orrv8048zwvv8/AAAKvn4VtnGG9QSRI3IUfohua?dl=0\n",
    "# https://www.dropbox.com/sh/x7l2w34wgstvz27/AAD6EmcB3BBNBbprzbPlE8nza?dl=0\n",
    "# https://www.dropbox.com/sh/s9ocbwhs7qlyduo/AAChFYswG_uX76alZVV_GZJfa?dl=0\n",
    "# https://www.dropbox.com/sh/oxyo0c9r9e1j0c1/AADIl5-fpXAmWQi5EIgUZQ3Ca?dl=0\n",
    "\n",
    "# https://www.dropbox.com/sh/odkw65o5iqlvdwq/AAC2i1slw0fYTwdctxvBa4uBa?dl=0\n",
    "# https://www.dropbox.com/sh/qhtjjedtoptqbrh/AABbK6ECI2QAlkk-Mfwf5x7Da?dl=0\n",
    "# https://www.dropbox.com/sh/8cguwen2rs5fwpl/AABvbjD8wocg9n2Eo6nXd06Ea?dl=0\n",
    "# https://www.dropbox.com/sh/7z4xov8eqz3w2t9/AAD1Vc9y-GYws8hUslaiA8T0a?dl=0\n",
    "# https://www.dropbox.com/sh/us1ws86k7fq1fj0/AABEpzvfcL_Wcp-57aToDLcOa?dl=0\n",
    "# https://www.dropbox.com/sh/g3e4nds7bjygm40/AAD330aoQz2-8Z5ZcF9WTU3ga?dl=0\n",
    "# https://www.dropbox.com/sh/f3fcgzht0c5hf19/AAAgsu447jfjb7oBvp_W3Jhxa?dl=0\n",
    "# https://www.dropbox.com/sh/uker7c3wxvtcqen/AADlkaOfkJB6hYfWmS1WTI-Ka?dl=0\n",
    "# https://www.dropbox.com/sh/483utfzx66vozas/AABJWBzybSGmY5-hwetcI__ga?dl=0\n",
    "# https://www.dropbox.com/sh/zxhaynqcr7eobf7/AAC7KxOZ5Ow2f-3GDQz3hvDfa?dl=0\n",
    "\n",
    "# https://www.dropbox.com/sh/3r26s3370m25x9t/AACW8y94NmJKfu7qP_-PAQTpa?dl=0\n",
    "# https://www.dropbox.com/sh/92j5qz67v070jh2/AAAgoOKEMCptoNwNhqewdypwa?dl=0\n",
    "# https://www.dropbox.com/sh/2l9tmfwjxyc0xbe/AADNtixnc2juDW6zoo_L7ELMa?dl=0\n",
    "# https://www.dropbox.com/sh/kb1oekibfmy8imi/AABVsV7RjvvoVuHh2agP_-3ea?dl=0\n",
    "# https://www.dropbox.com/sh/dgev8by0oqogt7h/AABRpuOf8DXG5mSnDBeRW1a8a?dl=0\n",
    "# https://www.dropbox.com/sh/swnr572gvga2zev/AABV7R_gOZaY9HVM_6lnbeCka?dl=0\n",
    "# https://www.dropbox.com/sh/7z4h0sp8pfk9lbf/AAATKxdozO4gBntbSDoqa_nda?dl=0\n",
    "# https://www.dropbox.com/sh/n46rwwi7s3wi923/AAAJ2qbOMyvCKTxYkvqi3T1da?dl=0\n",
    "# https://www.dropbox.com/sh/e2to9fwlrywv3s7/AAD5NigHhxMUhO5y7Ni7OhYCa?dl=0\n",
    "# https://www.dropbox.com/sh/j7ulzuua3hn5q94/AAD7vYDTkQtvUiYSjXFvfoi3a?dl=0\n",
    "\n",
    "# https://www.dropbox.com/sh/p07d4jxeuuv8rua/AAAiftplhvBH9SaNG4UKEWhJa?dl=0\n",
    "# https://www.dropbox.com/sh/eo9f9r6kghs7tpe/AAAIJ6eQQu74oB9jx--l8jTga?dl=0\n",
    "# https://www.dropbox.com/sh/0mtyziavhnkd6io/AAA43_WeryCcz4GerxDB6ua6a?dl=0\n",
    "# https://www.dropbox.com/sh/j6bne1nv59ykus3/AADYJ_DivclMZILu8dZX8zHwa?dl=0\n",
    "# https://www.dropbox.com/sh/4cdb011edxvac33/AACTECo9jLXFc2uBSiD6dZXra?dl=0\n",
    "# https://www.dropbox.com/sh/8wntebzsejrqjjd/AABzeSEZDytE3T1TVI1UECzSa?dl=0\n",
    "# https://www.dropbox.com/sh/1mqnluehaolcfue/AAB8P1Hrtxk-Ve_WztaKLoTLa?dl=0\n",
    "# https://www.dropbox.com/sh/hubov1kod183v1c/AACy_MIBMJLASxLdU-HSXdn5a?dl=0\n",
    "# https://www.dropbox.com/sh/z3xgoa40pcxdvxw/AAArXfQjlOIS_w6GHTf40cr2a?dl=0\n",
    "# https://www.dropbox.com/sh/qcn2ivxal8uapz9/AAAKcE7DmdWaxNdFIU4AbtCha?dl=0\n",
    "\n",
    "# https://www.dropbox.com/s/56qv36o5a9rd7je/annots.xlsx?dl=0\n",
    "# \"\"\""
   ]
  },
  {
   "cell_type": "code",
   "execution_count": 4,
   "id": "1bbb7d07",
   "metadata": {},
   "outputs": [],
   "source": [
    "urls = \"\"\"\n",
    "https://www.dropbox.com/sh/kki293cw68pm7yy/AABlnMWvHvAzf1EQ-YBctZGha?dl=0\n",
    "\"\"\""
   ]
  },
  {
   "cell_type": "code",
   "execution_count": 5,
   "id": "e8f5653d",
   "metadata": {},
   "outputs": [
    {
     "name": "stdout",
     "output_type": "stream",
     "text": [
      "N =  1\n",
      "https://www.dropbox.com/sh/kki293cw68pm7yy/AABlnMWvHvAzf1EQ-YBctZGha?dl=1\n"
     ]
    }
   ],
   "source": [
    "changed_urls = [url for url in urls.split(\"\\n\") if len(url) > 0]\n",
    "changed_urls = [url[:-1] + \"1\" for url in changed_urls]\n",
    "\n",
    "print(\"N = \", len(changed_urls))\n",
    "print(*changed_urls, sep=\"\\n\")\n"
   ]
  },
  {
   "cell_type": "code",
   "execution_count": 6,
   "id": "305bd5ca",
   "metadata": {},
   "outputs": [
    {
     "name": "stdout",
     "output_type": "stream",
     "text": [
      "0: curl https://www.dropbox.com/sh/kki293cw68pm7yy/AABlnMWvHvAzf1EQ-YBctZGha?dl=1 -LOJR\n"
     ]
    }
   ],
   "source": [
    "for i,url in enumerate(changed_urls):\n",
    "    cmd = f\"curl {url} -LOJR\"\n",
    "    print(f\"{i}: {cmd}\")\n",
    "    os.system(cmd)"
   ]
  },
  {
   "cell_type": "code",
   "execution_count": 7,
   "id": "c54958c9",
   "metadata": {},
   "outputs": [],
   "source": [
    "for i, fn in enumerate(os.listdir()):\n",
    "    if fn.endswith(\".zip\"):\n",
    "        extract_dir = fn[:fn.index(\".zip\")]\n",
    "        shutil.unpack_archive(fn, root+\"loni/\"+extract_dir)"
   ]
  },
  {
   "cell_type": "code",
   "execution_count": 8,
   "id": "3ad6402a",
   "metadata": {},
   "outputs": [
    {
     "name": "stdout",
     "output_type": "stream",
     "text": [
      "/home/gologors/data/loni\n",
      "['samir_images-labelled', 'samir_images-labelled.zip']\n"
     ]
    }
   ],
   "source": [
    "os.system(cmd)\n",
    "print(os.getcwd())\n",
    "print(os.listdir())"
   ]
  },
  {
   "cell_type": "code",
   "execution_count": null,
   "id": "d9908453",
   "metadata": {},
   "outputs": [],
   "source": [
    "cd "
   ]
  },
  {
   "cell_type": "code",
   "execution_count": null,
   "id": "5ad622b7",
   "metadata": {},
   "outputs": [],
   "source": [
    "f = open(\"/home/gologors/data/AAAq9r4b29ICxdU2BPZzf6Z_a?dl=1\", 'r+b')  \n",
    "data = f.read()  "
   ]
  },
  {
   "cell_type": "code",
   "execution_count": null,
   "id": "e0562a24",
   "metadata": {},
   "outputs": [],
   "source": [
    "print(os.getcwd())\n",
    "print(os.listdir())"
   ]
  },
  {
   "cell_type": "code",
   "execution_count": null,
   "id": "d4ecf4b8",
   "metadata": {},
   "outputs": [],
   "source": [
    "print(data)"
   ]
  },
  {
   "cell_type": "code",
   "execution_count": null,
   "id": "d5223463",
   "metadata": {},
   "outputs": [],
   "source": [
    "archive_path = \"/home/gologors/data/\" + \"annotations/\" + \"t.zip\"\n",
    "with tarfile.open(archive_path, \"r:gz\") as gzip_file:\n",
    "    gzip_file.extractall()"
   ]
  },
  {
   "cell_type": "code",
   "execution_count": null,
   "id": "33c023d4",
   "metadata": {},
   "outputs": [],
   "source": []
  }
 ],
 "metadata": {
  "kernelspec": {
   "display_name": "Python 3",
   "language": "python",
   "name": "python3"
  },
  "language_info": {
   "codemirror_mode": {
    "name": "ipython",
    "version": 3
   },
   "file_extension": ".py",
   "mimetype": "text/x-python",
   "name": "python",
   "nbconvert_exporter": "python",
   "pygments_lexer": "ipython3",
   "version": "3.8.8"
  }
 },
 "nbformat": 4,
 "nbformat_minor": 5
}
