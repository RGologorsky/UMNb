{
 "cells": [
  {
   "cell_type": "code",
   "execution_count": 1,
   "id": "e85a0dd3",
   "metadata": {},
   "outputs": [],
   "source": [
    "# set root directory of data\n",
    "DATA = f\"/home/gologors/data/positive_pituitary\""
   ]
  },
  {
   "cell_type": "code",
   "execution_count": 5,
   "id": "763b66e0",
   "metadata": {},
   "outputs": [],
   "source": [
    "# utilities\n",
    "import os, sys, time, json, glob, pprint\n",
    "\n",
    "# segmentation\n",
    "import meshio\n",
    "from scipy.spatial   import Delaunay\n",
    "    \n",
    "# graphing\n",
    "from matplotlib import gridspec\n",
    "\n",
    "import matplotlib.pyplot as plt\n",
    "import seaborn as sns\n",
    "\n",
    "# data\n",
    "import numpy as np\n",
    "import pandas as pd\n",
    "\n",
    "# nii\n",
    "import SimpleITK as sitk\n",
    "\n",
    "# interactive\n",
    "from ipywidgets import interact, interactive, IntSlider, ToggleButtons, fixed\n",
    "\n",
    "# helpers\n",
    "\n",
    "# add root to filepath (=os.path.join)\n",
    "def getfp(fn, root=DATA): return f\"{root}/{fn}\"\n",
    "\n",
    "# sitk obj and np array have different index conventions\n",
    "# deep copy\n",
    "def sitk2np(obj): return np.swapaxes(sitk.GetArrayFromImage(obj), 0, 2)\n",
    "def np2sitk(arr): return sitk.GetImageFromArray(np.swapaxes(arr, 0, 2))\n",
    "\n",
    "# round all floats in a tuple to 3 decimal places\n",
    "def round_tuple(t, d=2): return tuple(round(x,d) for x in t)\n",
    "\n",
    "def orient_test(image):\n",
    "    orient = sitk.DICOMOrientImageFilter()\n",
    "    orient.DebugOn()\n",
    "    print(round_tuple(image.GetDirection(), d=2))\n",
    "    print(orient.GetOrientationFromDirectionCosines(image.GetDirection()))\n",
    "\n",
    "# print sitk info\n",
    "def print_sitk_info(image):   \n",
    "    orient = sitk.DICOMOrientImageFilter()\n",
    "\n",
    "    print(\"Size: \", image.GetSize())\n",
    "    print(\"Origin: \", image.GetOrigin())\n",
    "    print(\"Spacing: \", image.GetSpacing())\n",
    "    print(\"Direction: \", round_tuple(image.GetDirection(), d=2))\n",
    "    print(\"Orientation: \", orient.GetOrientationFromDirectionCosines(image.GetDirection()))\n",
    "    print(f\"Pixel type: {image.GetPixelIDValue()} = {image.GetPixelIDTypeAsString()}\")"
   ]
  },
  {
   "cell_type": "code",
   "execution_count": 3,
   "id": "7a202074",
   "metadata": {},
   "outputs": [
    {
     "name": "stdout",
     "output_type": "stream",
     "text": [
      "10\n"
     ]
    }
   ],
   "source": [
    "# read sequence names from csv\n",
    "folders = os.listdir(DATA)\n",
    "print(len(folders))\n",
    "\n",
    "# folder\n",
    "folder = folders[0]"
   ]
  },
  {
   "cell_type": "code",
   "execution_count": 4,
   "id": "179f12bd",
   "metadata": {},
   "outputs": [
    {
     "data": {
      "application/vnd.jupyter.widget-view+json": {
       "model_id": "eb90d09dbdb54be089e6546ebd4dcc23",
       "version_major": 2,
       "version_minor": 0
      },
      "text/plain": [
       "interactive(children=(ToggleButtons(button_style='info', description='Select Seq:', options=(0, 1, 2, 3, 4, 5,…"
      ]
     },
     "metadata": {},
     "output_type": "display_data"
    }
   ],
   "source": [
    "# Select sequence\n",
    "seq_dict = {i:i for i in range(len(folders))}\n",
    "select_seq = ToggleButtons(\n",
    "    options=seq_dict.keys(),\n",
    "    description='Select Seq:',\n",
    "    disabled=False,\n",
    "    button_style='info', \n",
    "    \n",
    ")\n",
    "\n",
    "#IntSlider(min=0, max=len(series_info)-1, description='Select Seq', continuous_update=False)\n",
    "\n",
    "# Create button values\n",
    "axis_dict = {'Axis 0': 0, 'Axis 1': 1, 'Axis 2': 2}\n",
    "select_axis = ToggleButtons(\n",
    "    options=['Axis 0','Axis 1', 'Axis 2'],\n",
    "    description='Select Axis:',\n",
    "    disabled=False,\n",
    "    button_style='info', \n",
    "    \n",
    ")\n",
    "\n",
    "# Select layer\n",
    "nii_num_dict = {\n",
    "    \"#1\": 0,\n",
    "    \"#2\": 1,\n",
    "    \"#3\": 2\n",
    "}\n",
    "select_nii = ToggleButtons(\n",
    "    options=nii_num_dict.keys(),\n",
    "    description='Select nii:',\n",
    "    disabled=False,\n",
    "    button_style='info', \n",
    "    \n",
    ")\n",
    "\n",
    "# Select layer\n",
    "select_layer = IntSlider(min=0, max=20, description='Select Layer', continuous_update=False)\n",
    "    \n",
    "# Define a function for plotting images\n",
    "def plot_image(seq, axis, nii_num, layer, reorient):\n",
    "    \n",
    "    # Get axis, slice\n",
    "    seq_idx = seq_dict[seq]\n",
    "    axis = axis_dict[axis]\n",
    "    \n",
    "    # get nii num\n",
    "    nii_idx = nii_num_dict[nii_num]\n",
    "        \n",
    "    # get sequence\n",
    "    fn  = folders[seq]\n",
    "\n",
    "    # get files in dir\n",
    "    all_files = sorted(os.listdir(getfp(fn)))\n",
    "    niis  = [x for x in all_files if x.endswith(\".nii.gz\")]\n",
    "    jsons = [x for x in all_files if x.endswith(\".json\")] \n",
    "    dcms  = [x for x in all_files if x.endswith(\".dcm\")]\n",
    "\n",
    "    select_nii.options = list(nii_num_dict.keys())[:len(niis)]\n",
    "    \n",
    "    # open .nii files\n",
    "    im_obj = sitk.ReadImage(getfp(f\"{fn}/{niis[nii_idx]}\"))\n",
    "    \n",
    "    # reorient to LAS\n",
    "    if reorient:\n",
    "        # old orientation\n",
    "        old_orient = sitk.DICOMOrientImageFilter().GetOrientationFromDirectionCosines(im_obj.GetDirection())\n",
    "        im_obj = sitk.DICOMOrient(im_obj, \"LAS\")\n",
    "        \n",
    "    im_arr = sitk2np(im_obj)\n",
    "    im = np.take(im_arr, layer, axis=axis)\n",
    "\n",
    "    # print info           \n",
    "    print(f\"Seq: {seq}\")\n",
    "    print(\"Num dcms: \", len(dcms))\n",
    "    print(\"Num niis: \", len(niis))\n",
    "    if reorient:\n",
    "        print(\"Old orientation: \", old_orient)\n",
    "    print_sitk_info(im_obj)\n",
    "    print(f\"Plotting slice idx {layer} / {im_arr.shape[axis]}\")\n",
    "\n",
    "    select_layer.max = im_arr.shape[axis]-1\n",
    "    #select_layer.value = select_layer.max//2\n",
    "\n",
    "    # plot\n",
    "    plt.figure(figsize=(10,5))\n",
    "    plt.imshow(np.rot90(im), cmap='gray')\n",
    "    plt.axis('off');\n",
    "    plt.show()\n",
    "    return seq, axis, layer\n",
    "\n",
    "# Use the interactive() tool to create the visualization\n",
    "interactive(plot_image, seq=select_seq, layer=select_layer, axis=select_axis, nii_num=select_nii, reorient=False)"
   ]
  },
  {
   "cell_type": "markdown",
   "id": "e6310392",
   "metadata": {},
   "source": [
    "# View annotations\n",
    "\n",
    "- dictionary: "
   ]
  },
  {
   "cell_type": "markdown",
   "id": "467380f8",
   "metadata": {},
   "source": [
    "Dict: nii, .mtl"
   ]
  },
  {
   "cell_type": "code",
   "execution_count": 5,
   "id": "d51f3e21",
   "metadata": {},
   "outputs": [],
   "source": [
    "def get_suffix(x, suffix):\n",
    "    return glob.glob(f\"{getfp(x)}/*.{suffix}\")"
   ]
  },
  {
   "cell_type": "code",
   "execution_count": 6,
   "id": "7a3899c8",
   "metadata": {},
   "outputs": [],
   "source": [
    "# for each folder, get path to MR (.nii) and mesh (.obj)\n",
    "mesh_dict = {}\n",
    "for x in os.listdir(DATA):\n",
    "    niis = get_suffix(x, \"nii.gz\") + get_suffix(x, \"nii\")\n",
    "    meshes = get_suffix(x, \"obj\")\n",
    "    \n",
    "    if len(niis) == 1 and len(meshes) == 1:\n",
    "        mesh_dict[x] = (niis[0], meshes[0])\n",
    "    else:\n",
    "        print(f\"Not unique: {x} has {len(niis)} niis and {len(meshs)} meshes.\")\n",
    "\n",
    "# print(json.dumps(nii_mtl_dict, indent=2))"
   ]
  },
  {
   "cell_type": "code",
   "execution_count": 7,
   "id": "6220f30f",
   "metadata": {},
   "outputs": [],
   "source": [
    "# plot\n",
    "\n",
    "from helpers.viz import viz_axis, viz_compare_inputs, viz_compare_outputs\n",
    "from helpers.viz import *\n",
    "\n",
    "def viz_anno(mr, seg):\n",
    "    \n",
    "    mr, seg = np.array(mr), np.array(seg)\n",
    "    gt_bbox = mask2bbox(seg)\n",
    "    \n",
    "    bbox = gt_bbox\n",
    "    \n",
    "    # print bbox\n",
    "    #print(\"Pred: \"); print_bbox(*pred_bbox)\n",
    "    print(\"GT: \"); print_bbox(*gt_bbox)\n",
    "          \n",
    "    # viz\n",
    "    viz_axis(np_arr = mr, \\\n",
    "            bin_mask_arr   = seg,     color1 = \"yellow\",  alpha1=0.3, \\\n",
    "            #bin_mask_arr2  = pred_mk, color2 = \"magenta\", alpha2=0.3, \\\n",
    "            slices=lrange(*bbox[4:6]), fixed_axis=2, \\\n",
    "            axis_fn = np.rot90, \\\n",
    "            title   = \"Axis 2\", \\\n",
    "\n",
    "#             np_arr_b = mr, \\\n",
    "#             bin_mask_arr_b   = seg,     color1_b = \"yellow\",  alpha1_b=0.3, \\\n",
    "#             bin_mask_arr2_b  = pred_mk, color2_b = \"magenta\", alpha2_b=0.3, \\\n",
    "#             slices_b = lrange(*bbox[2:4]), fixed_axis_b=1, \\\n",
    "#             title_b  = \"Axis 1\", \\\n",
    "\n",
    "#             np_arr_c = mr, \\\n",
    "#             bin_mask_arr_c   = seg,     color1_c = \"yellow\",  alpha1_c=0.3, \\\n",
    "#             bin_mask_arr2_c  = pred_mk, color2_c = \"magenta\", alpha2_c=0.3, \\\n",
    "#             slices_c = lrange(*bbox[4:6]), fixed_axis_c=2, \\\n",
    "#             title_c = \"Axis 2\", \\\n",
    "  \n",
    "        ncols = 5, hspace=0.3, fig_mult=2) "
   ]
  },
  {
   "cell_type": "code",
   "execution_count": 8,
   "id": "d518087b",
   "metadata": {},
   "outputs": [],
   "source": [
    "# Convert segmentation object to numpy binary mask\n",
    "# 1. Get affine matrix in SITK (aff tfm: idx coord => physical space coord)\n",
    "# 2. Convert image idxs to physical coords\n",
    "# 3. Check whether physical coords are in the Delauney triangulation of segmented mesh points\n",
    "\n",
    "# numpy mask arr into sitk obj\n",
    "def mask2sitk(mask_arr, sitk_image):\n",
    "  # convert bool mask to int mask\n",
    "  # swap axes for sitk\n",
    "  obj = sitk.GetImageFromArray(np.swapaxes(mask_arr.astype(np.uint8), 0, 2))\n",
    "  obj.SetOrigin(sitk_image.GetOrigin())\n",
    "  obj.SetSpacing(sitk_image.GetSpacing())   \n",
    "  obj.SetDirection(sitk_image.GetDirection())\n",
    "  return obj\n",
    "\n",
    "# 1. Get affine matrix in SITK\n",
    "# https://niftynet.readthedocs.io/en/v0.2.2/_modules/niftynet/io/simple_itk_as_nibabel.html\n",
    "def make_affine(simpleITKImage, ras_adj):\n",
    "    # get affine transform in LPS\n",
    "    c = [simpleITKImage.TransformIndexToPhysicalPoint(p)\n",
    "         for p in ((1, 0, 0),\n",
    "                   (0, 1, 0),\n",
    "                   (0, 0, 1),\n",
    "                   (0, 0, 0))]\n",
    "    c = np.array(c)\n",
    "    affine = np.concatenate([\n",
    "        np.concatenate([c[0:3] - c[3:], c[3:]], axis=0),\n",
    "        [[0.], [0.], [0.], [1.]]\n",
    "    ], axis=1)\n",
    "    affine = np.transpose(affine)\n",
    "    # convert to RAS to match nibabel\n",
    "    if ras_adj:\n",
    "        affine = np.matmul(np.diag([-1., -1., 1., 1.]), affine)\n",
    "    return affine\n",
    "\n",
    "# given paths, return isotropic SITK obj of nii and segm obj\n",
    "def paths2objs(mr_path, segm_path, ras_adj = False):\n",
    "    mr         = sitk.ReadImage(mr_path, sitk.sitkFloat32)\n",
    "    segm       = meshio.read(segm_path)\n",
    "    mask_arr   = seg2mask(mr, segm, ras_adj)\n",
    "    \n",
    "    return mr, mask2sitk(mask_arr, mr)\n",
    "\n",
    "# Seg2mask\n",
    "def seg2mask(image_obj, segm_obj, ras_adj):\n",
    "    dims = image_obj.GetSize()\n",
    "    aff     = make_affine(image_obj, ras_adj)\n",
    "    idx_pts = np.indices(dims[::-1], dtype=np.uint16).T.reshape(-1,3)[:,[2,1,0]]\n",
    "    physical_pts = (np.dot(aff[:3,:3], idx_pts.T) + aff[:3,3:4]).T \n",
    "    return (Delaunay(segm_obj.points).find_simplex(physical_pts) >= 0).reshape(dims)\n"
   ]
  },
  {
   "cell_type": "code",
   "execution_count": 9,
   "id": "187a96ae",
   "metadata": {},
   "outputs": [
    {
     "name": "stdout",
     "output_type": "stream",
     "text": [
      "1.3.46.670589.11.37169.5.0.3436.2016110300230654926\n"
     ]
    }
   ],
   "source": [
    "# try one\n",
    "x = list(mesh_dict.keys())[9]\n",
    "print(x)"
   ]
  },
  {
   "cell_type": "code",
   "execution_count": 10,
   "id": "025116a6",
   "metadata": {},
   "outputs": [
    {
     "data": {
      "text/plain": [
       "('/home/gologors/data/positive_pituitary/1.3.46.670589.11.37169.5.0.3436.2016110300230654926/1.3.46.670589.11.37169.5.0.3436.2016110300230654926_COR_T1_CLEAR_20161103000404_701.nii.gz',\n",
       " '/home/gologors/data/positive_pituitary/1.3.46.670589.11.37169.5.0.3436.2016110300230654926/Segmentation.obj')"
      ]
     },
     "execution_count": 10,
     "metadata": {},
     "output_type": "execute_result"
    }
   ],
   "source": [
    "mesh_dict[x]"
   ]
  },
  {
   "cell_type": "code",
   "execution_count": 11,
   "id": "86219ab0",
   "metadata": {},
   "outputs": [],
   "source": [
    "mr_path, segm_path = mesh_dict[x]\n",
    "\n",
    "mr         = sitk.ReadImage(mr_path, sitk.sitkFloat32)\n",
    "segm       = meshio.read(segm_path)"
   ]
  },
  {
   "cell_type": "code",
   "execution_count": 12,
   "id": "c94cb363",
   "metadata": {},
   "outputs": [],
   "source": [
    "image_obj = mr\n",
    "segm_obj = segm\n",
    "\n",
    "ras_adj = False\n",
    "dims = image_obj.GetSize()\n",
    "aff     = make_affine(image_obj, ras_adj)\n",
    "idx_pts = np.indices(dims[::-1], dtype=np.uint16).T.reshape(-1,3)[:,[2,1,0]]\n",
    "physical_pts = (np.dot(aff[:3,:3], idx_pts.T) + aff[:3,3:4]).T "
   ]
  },
  {
   "cell_type": "code",
   "execution_count": 13,
   "id": "2241080e",
   "metadata": {},
   "outputs": [
    {
     "ename": "NameError",
     "evalue": "name 'blokc' is not defined",
     "output_type": "error",
     "traceback": [
      "\u001b[0;31m---------------------------------------------------------------------------\u001b[0m",
      "\u001b[0;31mNameError\u001b[0m                                 Traceback (most recent call last)",
      "Input \u001b[0;32mIn [13]\u001b[0m, in \u001b[0;36m<cell line: 1>\u001b[0;34m()\u001b[0m\n\u001b[0;32m----> 1\u001b[0m \u001b[43mblokc\u001b[49m\n",
      "\u001b[0;31mNameError\u001b[0m: name 'blokc' is not defined"
     ]
    }
   ],
   "source": [
    "blokc"
   ]
  },
  {
   "cell_type": "code",
   "execution_count": 14,
   "id": "952487cc",
   "metadata": {},
   "outputs": [
    {
     "data": {
      "text/plain": [
       "'1.3.46.670589.11.70769.5.0.6828.2016112311204114626'"
      ]
     },
     "execution_count": 14,
     "metadata": {},
     "output_type": "execute_result"
    }
   ],
   "source": [
    "list(mesh_dict.keys())[7]"
   ]
  },
  {
   "cell_type": "code",
   "execution_count": 15,
   "id": "a321f44b",
   "metadata": {},
   "outputs": [
    {
     "data": {
      "text/plain": [
       "'1.3.46.670589.11.37169.5.0.3436.2016110300230654926'"
      ]
     },
     "execution_count": 15,
     "metadata": {},
     "output_type": "execute_result"
    }
   ],
   "source": [
    "list(mesh_dict.keys())[9]"
   ]
  },
  {
   "cell_type": "code",
   "execution_count": null,
   "id": "feffc3ca",
   "metadata": {},
   "outputs": [],
   "source": [
    "x1 = Delaunay(segm_obj.points)"
   ]
  },
  {
   "cell_type": "code",
   "execution_count": null,
   "id": "5f319be1",
   "metadata": {},
   "outputs": [],
   "source": [
    "bloack"
   ]
  },
  {
   "cell_type": "code",
   "execution_count": null,
   "id": "81204ac0",
   "metadata": {},
   "outputs": [],
   "source": [
    "x2 = x1.find_simplex(physical_pts)"
   ]
  },
  {
   "cell_type": "code",
   "execution_count": null,
   "id": "e2328f87",
   "metadata": {},
   "outputs": [],
   "source": [
    "res = (Delaunay(segm_obj.points).find_simplex(physical_pts) >= 0).reshape(dims)"
   ]
  },
  {
   "cell_type": "code",
   "execution_count": null,
   "id": "47453ea3",
   "metadata": {},
   "outputs": [],
   "source": [
    "mr_obj, seg_obj = paths2objs(*mesh_dict[x])"
   ]
  },
  {
   "cell_type": "code",
   "execution_count": null,
   "id": "0eb70030",
   "metadata": {},
   "outputs": [],
   "source": [
    "mr = sitk2np(mr_obj)\n",
    "seg = sitk2np(seg_obj)\n",
    "\n",
    "viz_anno(mr, seg)\n",
    "# viz_compare_outputs(mr, seg, seg)"
   ]
  },
  {
   "cell_type": "code",
   "execution_count": null,
   "id": "c3763985",
   "metadata": {},
   "outputs": [],
   "source": []
  },
  {
   "cell_type": "code",
   "execution_count": null,
   "id": "4f4a4f97",
   "metadata": {},
   "outputs": [],
   "source": [
    "# make a dictionary of key = train folder, value = (segm obj, nii file)\n",
    "def get_data_dict_n4(train_path):\n",
    "    train_folders   = os.listdir(train_path)\n",
    "    train_data_dict = {}\n",
    "    for folder in train_folders:\n",
    "        segm_obj_path = os.path.join(train_path, folder, \"seg.pt\")\n",
    "\n",
    "        mp_path      = os.path.join(train_path, folder, \"MP-RAGE\")\n",
    "        folder1_path = os.path.join(mp_path, os.listdir(mp_path)[0])\n",
    "        folder2_path = os.path.join(folder1_path, os.listdir(folder1_path)[0])\n",
    "\n",
    "        # choose corrected_n4 if available\n",
    "        nii_paths = glob.glob(f\"{folder2_path}/*.nii\")\n",
    "        nii_path = nii_paths[0]\n",
    "         \n",
    "        if len(nii_paths) > 1 and not nii_path.endswith(\"corrected_n4.nii\"):\n",
    "            nii_path = nii_paths[1]\n",
    "            \n",
    "        train_data_dict[folder] = (nii_path, segm_obj_path) #(segm_obj_path, nii_path)\n",
    "    return train_data_dict"
   ]
  }
 ],
 "metadata": {
  "kernelspec": {
   "display_name": "CustomEnv",
   "language": "python",
   "name": "custom_env"
  },
  "language_info": {
   "codemirror_mode": {
    "name": "ipython",
    "version": 3
   },
   "file_extension": ".py",
   "mimetype": "text/x-python",
   "name": "python",
   "nbconvert_exporter": "python",
   "pygments_lexer": "ipython3",
   "version": "3.8.13"
  }
 },
 "nbformat": 4,
 "nbformat_minor": 5
}
